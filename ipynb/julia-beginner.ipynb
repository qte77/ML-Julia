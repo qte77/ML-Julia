{
 "cells": [
  {
   "cell_type": "code",
   "execution_count": 1,
   "id": "6bb2048b",
   "metadata": {},
   "outputs": [],
   "source": [
    "#https://www.math.purdue.edu/~allen450/ML-with-Julia-Tutorial.html\n",
    "#https://github.com/tonygallen/JPUG"
   ]
  },
  {
   "cell_type": "code",
   "execution_count": 20,
   "id": "98792bfe",
   "metadata": {
    "scrolled": true
   },
   "outputs": [
    {
     "name": "stderr",
     "output_type": "stream",
     "text": [
      "\u001b[32m\u001b[1m   Resolving\u001b[22m\u001b[39m package versions...\n",
      "\u001b[32m\u001b[1m  No Changes\u001b[22m\u001b[39m to `~/Project.toml`\n",
      "\u001b[32m\u001b[1m  No Changes\u001b[22m\u001b[39m to `~/Manifest.toml`\n"
     ]
    }
   ],
   "source": [
    "using Pkg\n",
    "Pkg.add(\"Flux\")"
   ]
  },
  {
   "cell_type": "code",
   "execution_count": 24,
   "id": "2a106a2c",
   "metadata": {},
   "outputs": [],
   "source": [
    "using Flux\n",
    "#using Flux.Tracker"
   ]
  },
  {
   "cell_type": "code",
   "execution_count": 56,
   "id": "9e9b8e47",
   "metadata": {},
   "outputs": [
    {
     "data": {
      "text/plain": [
       "ddf (generic function with 1 method)"
      ]
     },
     "execution_count": 56,
     "metadata": {},
     "output_type": "execute_result"
    }
   ],
   "source": [
    "f(x)=x^2+1\n",
    "#get tupel of differential of f at x\n",
    "df(x)=gradient(f, x)[1] #, nest=true)\n",
    "ddf(x)=gradient(df, x)[1] #, nest=true)"
   ]
  },
  {
   "cell_type": "code",
   "execution_count": 57,
   "id": "72708fbe",
   "metadata": {},
   "outputs": [
    {
     "name": "stdout",
     "output_type": "stream",
     "text": [
      "x=2, df: 4, ddf: 2.0"
     ]
    }
   ],
   "source": [
    "x=2\n",
    "print(\"x=$(x), df: $(df(x)), ddf: $(ddf(x))\")"
   ]
  },
  {
   "cell_type": "code",
   "execution_count": 65,
   "id": "397705c4",
   "metadata": {},
   "outputs": [
    {
     "ename": "LoadError",
     "evalue": "syntax: { } vector syntax is discontinued around In[65]:2",
     "output_type": "error",
     "traceback": [
      "syntax: { } vector syntax is discontinued around In[65]:2",
      "",
      "Stacktrace:",
      " [1] top-level scope",
      "   @ In[65]:2",
      " [2] eval",
      "   @ ./boot.jl:373 [inlined]",
      " [3] include_string(mapexpr::typeof(REPL.softscope), mod::Module, code::String, filename::String)",
      "   @ Base ./loading.jl:1196"
     ]
    }
   ],
   "source": [
    "g(x,y,z)=x^2+y^2+z^2\n",
    "x,y,z=(1,2,3)\n",
    "gradient(g,x,y,z)"
   ]
  },
  {
   "cell_type": "code",
   "execution_count": 72,
   "id": "540657ea",
   "metadata": {},
   "outputs": [
    {
     "data": {
      "text/plain": [
       "f_hat (generic function with 1 method)"
      ]
     },
     "execution_count": 72,
     "metadata": {},
     "output_type": "execute_result"
    }
   ],
   "source": [
    "#Linear Regression with Params()\n",
    "W=rand(5,10) #Matrix m rows * n cols\n",
    "b=rand(5)\n",
    "f_hat(x)=W*x+b"
   ]
  },
  {
   "cell_type": "code",
   "execution_count": 73,
   "id": "58f0e5eb",
   "metadata": {},
   "outputs": [
    {
     "data": {
      "text/plain": [
       "loss (generic function with 1 method)"
      ]
     },
     "execution_count": 73,
     "metadata": {},
     "output_type": "execute_result"
    }
   ],
   "source": [
    "function loss(x,y)\n",
    "    y_hat=f_hat(x) #y pred\n",
    "    return sum((y-y_hat).^2)\n",
    "end"
   ]
  },
  {
   "cell_type": "code",
   "execution_count": 81,
   "id": "b2e39aa3",
   "metadata": {},
   "outputs": [
    {
     "data": {
      "text/plain": [
       "62.25611640706459"
      ]
     },
     "execution_count": 81,
     "metadata": {},
     "output_type": "execute_result"
    }
   ],
   "source": [
    "x,y=(rand(10),rand(5))\n",
    "loss(x,y)"
   ]
  },
  {
   "cell_type": "code",
   "execution_count": 84,
   "id": "194efb57",
   "metadata": {},
   "outputs": [
    {
     "ename": "LoadError",
     "evalue": "UndefVarError: Params not defined",
     "output_type": "error",
     "traceback": [
      "UndefVarError: Params not defined",
      "",
      "Stacktrace:",
      " [1] top-level scope",
      "   @ In[84]:1",
      " [2] eval",
      "   @ ./boot.jl:373 [inlined]",
      " [3] include_string(mapexpr::typeof(REPL.softscope), mod::Module, code::String, filename::String)",
      "   @ Base ./loading.jl:1196"
     ]
    }
   ],
   "source": [
    "Params(W)"
   ]
  }
 ],
 "metadata": {
  "kernelspec": {
   "display_name": "Julia 1.7.1",
   "language": "julia",
   "name": "julia-1.7"
  },
  "language_info": {
   "file_extension": ".jl",
   "mimetype": "application/julia",
   "name": "julia",
   "version": "1.7.1"
  }
 },
 "nbformat": 4,
 "nbformat_minor": 5
}
